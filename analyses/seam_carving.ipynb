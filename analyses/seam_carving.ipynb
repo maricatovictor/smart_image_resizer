{
 "cells": [
  {
   "cell_type": "code",
   "execution_count": null,
   "metadata": {},
   "outputs": [],
   "source": [
    "import sys\n",
    "sys.path.append(\"..\")\n",
    "\n",
    "from shrink.utils import load_image, save\n",
    "from shrink.seam_carving import seam_carve\n",
    "\n",
    "import numpy as np\n",
    "import yaml"
   ]
  },
  {
   "cell_type": "code",
   "execution_count": null,
   "metadata": {},
   "outputs": [],
   "source": [
    "SOURCE_IMAGE_PATH = \"data/source.jpg\"\n",
    "TARGET_IMAGE_PATH = \"data/target.jpg\"\n",
    "\n",
    "# Set Parameters\n",
    "with open(\"params.yaml\") as fin:\n",
    "    config = yaml.safe_load(fin)\n",
    "\n",
    "n_shrink = config[\"n_shrink\"]\n",
    "downsize = config[\"downsize\"]\n",
    "gif = config[\"gif\"]"
   ]
  },
  {
   "cell_type": "code",
   "execution_count": null,
   "metadata": {},
   "outputs": [],
   "source": [
    "img = load_image(SOURCE_IMAGE_PATH)\n",
    "img_array = np.asarray(img)"
   ]
  },
  {
   "cell_type": "code",
   "execution_count": null,
   "metadata": {},
   "outputs": [],
   "source": [
    "%%time\n",
    "img_carved = seam_carve(img_array, n_shrink, vis=False, downsize=downsize, gif=True)"
   ]
  },
  {
   "cell_type": "code",
   "execution_count": null,
   "metadata": {},
   "outputs": [],
   "source": [
    "save(img_carved, TARGET_IMAGE_PATH)"
   ]
  }
 ],
 "metadata": {
  "kernelspec": {
   "display_name": "smart_image_shrink",
   "language": "python",
   "name": "smart_image_shrink"
  },
  "language_info": {
   "codemirror_mode": {
    "name": "ipython"
   },
   "file_extension": ".py",
   "mimetype": "text/x-python",
   "name": "python",
   "nbconvert_exporter": "python"
  }
 },
 "nbformat": 4,
 "nbformat_minor": 4
}
