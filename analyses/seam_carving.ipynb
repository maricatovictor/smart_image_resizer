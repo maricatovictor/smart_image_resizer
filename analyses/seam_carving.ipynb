{
 "cells": [
  {
   "cell_type": "code",
   "execution_count": null,
   "metadata": {},
   "outputs": [],
   "source": [
    "import sys\n",
    "sys.path.append(\"..\")\n",
    "\n",
    "from shrink.utils import load_image, visualize, save\n",
    "from shrink.seam_carving import seam_carve\n",
    "\n",
    "import numpy as np"
   ]
  },
  {
   "cell_type": "code",
   "execution_count": null,
   "metadata": {},
   "outputs": [],
   "source": [
    "DATA_PATH = \"data\"\n",
    "IMAGE_PATH = DATA_PATH + \"/dali.jpg\""
   ]
  },
  {
   "cell_type": "code",
   "execution_count": null,
   "metadata": {},
   "outputs": [],
   "source": [
    "img = load_image(IMAGE_PATH)\n",
    "img_array = np.asarray(img)"
   ]
  },
  {
   "cell_type": "code",
   "execution_count": null,
   "metadata": {},
   "outputs": [],
   "source": [
    "%%time\n",
    "NUM_SHORTEN = 5\n",
    "img_carved = seam_carve(img_array, NUM_SHORTEN, vis=True, downsize=1000)"
   ]
  }
 ],
 "metadata": {
  "kernelspec": {
   "display_name": "smart_image_shrink",
   "language": "python",
   "name": "smart_image_shrink"
  },
  "language_info": {
   "codemirror_mode": {
    "name": "ipython"
   },
   "file_extension": ".py",
   "mimetype": "text/x-python",
   "name": "python",
   "nbconvert_exporter": "python"
  }
 },
 "nbformat": 4,
 "nbformat_minor": 4
}
